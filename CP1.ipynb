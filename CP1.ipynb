{
  "nbformat": 4,
  "nbformat_minor": 0,
  "metadata": {
    "colab": {
      "name": "CP1.ipynb",
      "provenance": [],
      "collapsed_sections": []
    },
    "kernelspec": {
      "name": "python3",
      "display_name": "Python 3"
    }
  },
  "cells": [
    {
      "cell_type": "markdown",
      "metadata": {
        "id": "Il4QyKh3JFOa",
        "colab_type": "text"
      },
      "source": [
        "#Question 1"
      ]
    },
    {
      "cell_type": "code",
      "metadata": {
        "id": "eq3nKp8HJDDI",
        "colab_type": "code",
        "colab": {
          "base_uri": "https://localhost:8080/",
          "height": 54
        },
        "outputId": "4fbdfe7f-b87e-42cd-b9df-0777829f88d5"
      },
      "source": [
        "listQ1 = []\n",
        "for i in range(1999, 3201):\n",
        "  if (i%7==0) and (i%5!=0):\n",
        "    listQ1.append(str(i))\n",
        "print(','.join(listQ1))"
      ],
      "execution_count": 7,
      "outputs": [
        {
          "output_type": "stream",
          "text": [
            "2002,2009,2016,2023,2037,2044,2051,2058,2072,2079,2086,2093,2107,2114,2121,2128,2142,2149,2156,2163,2177,2184,2191,2198,2212,2219,2226,2233,2247,2254,2261,2268,2282,2289,2296,2303,2317,2324,2331,2338,2352,2359,2366,2373,2387,2394,2401,2408,2422,2429,2436,2443,2457,2464,2471,2478,2492,2499,2506,2513,2527,2534,2541,2548,2562,2569,2576,2583,2597,2604,2611,2618,2632,2639,2646,2653,2667,2674,2681,2688,2702,2709,2716,2723,2737,2744,2751,2758,2772,2779,2786,2793,2807,2814,2821,2828,2842,2849,2856,2863,2877,2884,2891,2898,2912,2919,2926,2933,2947,2954,2961,2968,2982,2989,2996,3003,3017,3024,3031,3038,3052,3059,3066,3073,3087,3094,3101,3108,3122,3129,3136,3143,3157,3164,3171,3178,3192,3199\n"
          ],
          "name": "stdout"
        }
      ]
    },
    {
      "cell_type": "markdown",
      "metadata": {
        "id": "g-SqjUY0J4PZ",
        "colab_type": "text"
      },
      "source": [
        "#Question 2"
      ]
    },
    {
      "cell_type": "code",
      "metadata": {
        "id": "u4e3To5mJ7G9",
        "colab_type": "code",
        "colab": {
          "base_uri": "https://localhost:8080/",
          "height": 52
        },
        "outputId": "26349bc3-c5e9-4760-9c74-9260a996dc5c"
      },
      "source": [
        "n = int(input())\n",
        "def fact(x): return x if x is 1 else x*fact(x-1)\n",
        "print(fact(n))"
      ],
      "execution_count": 8,
      "outputs": [
        {
          "output_type": "stream",
          "text": [
            "8\n",
            "40320\n"
          ],
          "name": "stdout"
        }
      ]
    },
    {
      "cell_type": "markdown",
      "metadata": {
        "id": "NVJlnTaVJ6iE",
        "colab_type": "text"
      },
      "source": [
        "#Question 3"
      ]
    },
    {
      "cell_type": "code",
      "metadata": {
        "id": "_82g1tmGLvqA",
        "colab_type": "code",
        "colab": {
          "base_uri": "https://localhost:8080/",
          "height": 34
        },
        "outputId": "c371a9d3-a064-41ea-eafe-e41c75a057ea"
      },
      "source": [
        "n = int(input())\n",
        "dictCarre = {i : i*i for i in range(1, n+1)}\n"
      ],
      "execution_count": 16,
      "outputs": [
        {
          "output_type": "stream",
          "text": [
            "8\n"
          ],
          "name": "stdout"
        }
      ]
    },
    {
      "cell_type": "code",
      "metadata": {
        "id": "p6Y8fnYzMEcw",
        "colab_type": "code",
        "colab": {
          "base_uri": "https://localhost:8080/",
          "height": 34
        },
        "outputId": "ec3856ae-31f8-435b-fe7c-b221ee353898"
      },
      "source": [
        "dictCarre\n"
      ],
      "execution_count": 17,
      "outputs": [
        {
          "output_type": "execute_result",
          "data": {
            "text/plain": [
              "{1: 1, 2: 4, 3: 9, 4: 16, 5: 25, 6: 36, 7: 49, 8: 64}"
            ]
          },
          "metadata": {
            "tags": []
          },
          "execution_count": 17
        }
      ]
    },
    {
      "cell_type": "markdown",
      "metadata": {
        "id": "XCKxdkrhNG4U",
        "colab_type": "text"
      },
      "source": [
        "#Question 4"
      ]
    },
    {
      "cell_type": "code",
      "metadata": {
        "id": "GbzDXqi1MG8M",
        "colab_type": "code",
        "colab": {
          "base_uri": "https://localhost:8080/",
          "height": 52
        },
        "outputId": "0e16ccba-9eab-4c47-e12d-2a007692f24f"
      },
      "source": [
        "from math import sqrt\n",
        "x = input()\n",
        "listD = x.split(\",\")\n",
        "Q = lambda D, C=50, H=30: int(sqrt((2*C*D)/H)) \n",
        "results = [str(Q(int(listD[i]))) for i in range(len(listD))]\n",
        "print(\",\".join(results))"
      ],
      "execution_count": 44,
      "outputs": [
        {
          "output_type": "stream",
          "text": [
            "100,150,180\n",
            "18,22,24\n"
          ],
          "name": "stdout"
        }
      ]
    },
    {
      "cell_type": "markdown",
      "metadata": {
        "id": "9qK1TOzoSMhW",
        "colab_type": "text"
      },
      "source": [
        "#Mini-challenge"
      ]
    },
    {
      "cell_type": "code",
      "metadata": {
        "id": "fTkGauh-Rp-0",
        "colab_type": "code",
        "colab": {}
      },
      "source": [
        "word = str(input())\n",
        "while True:\n",
        "  n = int(input())\n",
        "  if n < len(word):\n",
        "    break \n",
        "new_word = word.replace(word[n], '',1)   \n",
        "\n",
        "\n"
      ],
      "execution_count": 0,
      "outputs": []
    },
    {
      "cell_type": "code",
      "metadata": {
        "id": "XVOBzOeaUguo",
        "colab_type": "code",
        "colab": {}
      },
      "source": [
        "word = \"g fmnc wms bgblr rpylqjyrc gr zw fylb. rfyrq ufyr amknsrcpq ypc dmp. bmgle gr gl zw fylb gq glcddgagclr ylb rfyr'q ufw rfgq rcvr gq qm jmle. sqgle qrpgle.kyicrpylq() gq pcamkkclbcb. lmu ynnjw ml rfc spj.\"\n",
        "decod=''\n",
        "for c in word:\n",
        "  if c >= 'a' and c <= 'z':\n",
        "    decod +=  chr(((ord(c) + 2) - ord('a')) % 26 + ord('a'))\n",
        "  else:\n",
        "    decod += c\n",
        "print(decod)    "
      ],
      "execution_count": 0,
      "outputs": []
    },
    {
      "cell_type": "code",
      "metadata": {
        "id": "6jwG0nujazty",
        "colab_type": "code",
        "colab": {
          "base_uri": "https://localhost:8080/",
          "height": 54
        },
        "outputId": "44ba0649-c64d-4284-9a21-f9bcacaf9b58"
      },
      "source": [
        "msg = \"abcdefghijklmnopqrstuvwxyz,. '()\"\n",
        "code = \"cdefghijklmnopqrstuvwxyzab,. '()\"\n",
        "word.translate(str.maketrans(msg, code))"
      ],
      "execution_count": 58,
      "outputs": [
        {
          "output_type": "execute_result",
          "data": {
            "text/plain": [
              "\"i hope you didnt translate it by hand. thats what computers are for. doing it in by hand is inefficient and that's why this text is so long. using string.maketrans() is recommended. now apply on the url.\""
            ]
          },
          "metadata": {
            "tags": []
          },
          "execution_count": 58
        }
      ]
    },
    {
      "cell_type": "code",
      "metadata": {
        "id": "LE6SZQ_Zdjew",
        "colab_type": "code",
        "colab": {}
      },
      "source": [
        "import numpy as np\n",
        "A = np.array([[0, 1], [2, 3], [4, 5]])\n",
        "listA = [list(A[i, :]) for i in range(A.shape[0])]"
      ],
      "execution_count": 0,
      "outputs": []
    },
    {
      "cell_type": "code",
      "metadata": {
        "id": "mTr8vD2Tefn1",
        "colab_type": "code",
        "colab": {
          "base_uri": "https://localhost:8080/",
          "height": 34
        },
        "outputId": "e5d10af7-1d31-41f5-f43a-bfbe8f92333c"
      },
      "source": [
        "listA"
      ],
      "execution_count": 69,
      "outputs": [
        {
          "output_type": "execute_result",
          "data": {
            "text/plain": [
              "[[0, 1], [2, 3], [4, 5]]"
            ]
          },
          "metadata": {
            "tags": []
          },
          "execution_count": 69
        }
      ]
    },
    {
      "cell_type": "code",
      "metadata": {
        "id": "VCfMPFQ2eoV-",
        "colab_type": "code",
        "colab": {
          "base_uri": "https://localhost:8080/",
          "height": 52
        },
        "outputId": "3d12b387-b258-4b18-fca2-930dccd59673"
      },
      "source": [
        "a = np.array([0, 1, 2])\n",
        "b = np.array([2, 1, 0])\n",
        "np.cov(a, b)"
      ],
      "execution_count": 70,
      "outputs": [
        {
          "output_type": "execute_result",
          "data": {
            "text/plain": [
              "array([[ 1., -1.],\n",
              "       [-1.,  1.]])"
            ]
          },
          "metadata": {
            "tags": []
          },
          "execution_count": 70
        }
      ]
    },
    {
      "cell_type": "code",
      "metadata": {
        "id": "gp7HsqR4fU29",
        "colab_type": "code",
        "colab": {}
      },
      "source": [
        ""
      ],
      "execution_count": 0,
      "outputs": []
    }
  ]
}